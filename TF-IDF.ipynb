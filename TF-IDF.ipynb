{
 "cells": [
  {
   "cell_type": "markdown",
   "metadata": {},
   "source": [
    "### Importing Libraries "
   ]
  },
  {
   "cell_type": "code",
   "execution_count": null,
   "metadata": {},
   "outputs": [],
   "source": [
    "import pandas as pd\n",
    "import re\n",
    "import numpy as np \n",
    "from pandas import DataFrame\n",
    "import time\n",
    "from sklearn.feature_extraction.text import TfidfVectorizer"
   ]
  },
  {
   "cell_type": "markdown",
   "metadata": {},
   "source": [
    "### Load Dataset"
   ]
  },
  {
   "cell_type": "code",
   "execution_count": null,
   "metadata": {},
   "outputs": [],
   "source": [
    "client_name = pd.read_csv(\"xyz.csv\", encoding = \"ISO-8859-1\")\n",
    "left_side = client_name['Leftcol']"
   ]
  },
  {
   "cell_type": "markdown",
   "metadata": {},
   "source": [
    "### Definig Ngram function and string cleaning and manipulation"
   ]
  },
  {
   "cell_type": "code",
   "execution_count": null,
   "metadata": {},
   "outputs": [],
   "source": [
    "def ngrams(string, n=3):\n",
    "    string = string.encode(\"ascii\", errors=\"ignore\").decpde()\n",
    "    string = string.lower()\n",
    "    chars_to_remove = [\")\",\"(\",\".\",\"|\",\"[\",\"]\",\"{\",\"}\",\"'\",\"\\\"\"]\n",
    "    rx = '['+ re.escape(''.join(chars_to_remove)) + ']'\n",
    "    string = re.sub(rx, '', string) #remove the list of chars\n",
    "    string = string.replace('&', 'and')\n",
    "    string = string.replace(',', ' ')\n",
    "    string = string.replace('-', ' ')\n",
    "    string = string.title()\n",
    "    string = re.sub(' +', ' ', string).strip() #combines white space\n",
    "    string = ' ' + string + ' ' #padding\n",
    "    string = re.sub(r'[,-./]|\\sBD', r'', string)\n",
    "    ngrams = zip(*[string[i:] for i in range(n)])\n",
    "    return [''.join(ngram) for ngram in ngrams]"
   ]
  },
  {
   "cell_type": "markdown",
   "metadata": {},
   "source": [
    "### Vectorizing string names and making matrix"
   ]
  },
  {
   "cell_type": "code",
   "execution_count": null,
   "metadata": {},
   "outputs": [],
   "source": [
    "right_side = client_name['Rightcol']\n",
    "vectorizer = TfidfVectorizer(min_df=1, analyzer=ngrams)\n",
    "tf_idf_matrix1 = vectorizer.fit_transform(right_side)"
   ]
  },
  {
   "cell_type": "code",
   "execution_count": 1,
   "metadata": {},
   "outputs": [
    {
     "ename": "SyntaxError",
     "evalue": "EOL while scanning string literal (<ipython-input-1-a1aa08e2ef08>, line 29)",
     "output_type": "error",
     "traceback": [
      "\u001b[1;36m  File \u001b[1;32m\"<ipython-input-1-a1aa08e2ef08>\"\u001b[1;36m, line \u001b[1;32m29\u001b[0m\n\u001b[1;33m    print(\"done)\u001b[0m\n\u001b[1;37m                ^\u001b[0m\n\u001b[1;31mSyntaxError\u001b[0m\u001b[1;31m:\u001b[0m EOL while scanning string literal\n"
     ]
    }
   ],
   "source": [
    "from sklearn.neighbors import NearestNeighbors\n",
    "nbrs = NearestNeighbors(n_neighbors=1, n_jobs=-1).fit(tf_idf_matrix1)\n",
    "\n",
    "#left_side = list(client_name['Leftcol'].values)\n",
    "left_side = set(client_name['Leftcol'].values)\n",
    "\n",
    "def getNearesetN(query):\n",
    "    queryTFIDF = vectorizer.transform(query)\n",
    "    distances, indices = nbrs.kneighbors(queryTFIDF)\n",
    "    return distances, indices\n",
    "\n",
    "#calculating the time to return the value \n",
    "t1 = time.time()\n",
    "print(\"getting nearest n...\")\n",
    "distances, indices = getNearestN(left_side)\n",
    "t = time.time()-t1\n",
    "print(\"completed IN : \", t)\n",
    "\n",
    "#need more faster output convert into set it will removes duplicate records\n",
    "#convert set to list for priting output\n",
    "\n",
    "left_side = list(left_side)\n",
    "print('organizing the output matches... ')\n",
    "matches = []\n",
    "\n",
    "for i,j in enumerate(indices):\n",
    "    temp = [round(distances[i][0],2), right_side.values[j],left_side[i]]\n",
    "    matches = pd.DataFrame(matches, columns=['Match Confidence (lower is better)', 'rightside_matched_name','leftside_name'])\n",
    "    print(\"done\")"
   ]
  },
  {
   "cell_type": "code",
   "execution_count": null,
   "metadata": {},
   "outputs": [],
   "source": [
    "print(matches)"
   ]
  },
  {
   "cell_type": "code",
   "execution_count": null,
   "metadata": {},
   "outputs": [],
   "source": [
    "matches.to_csv('tf-idf_nearestN.csv', index = False)"
   ]
  }
 ],
 "metadata": {
  "kernelspec": {
   "display_name": "Python 3",
   "language": "python",
   "name": "python3"
  },
  "language_info": {
   "codemirror_mode": {
    "name": "ipython",
    "version": 3
   },
   "file_extension": ".py",
   "mimetype": "text/x-python",
   "name": "python",
   "nbconvert_exporter": "python",
   "pygments_lexer": "ipython3",
   "version": "3.7.4"
  }
 },
 "nbformat": 4,
 "nbformat_minor": 2
}
